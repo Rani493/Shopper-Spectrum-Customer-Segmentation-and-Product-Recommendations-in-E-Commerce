{
 "cells": [
  {
   "metadata": {},
   "cell_type": "markdown",
   "source": [
    "# This is a sample Jupyter Notebook\n",
    "\n",
    "Below is an example of a code cell. \n",
    "Put your cursor into the cell and press Shift+Enter to execute it and select the next one, or click 'Run Cell' button.\n",
    "\n",
    "Press Double Shift to search everywhere for classes, files, tool windows, actions, and settings.\n",
    "\n",
    "To learn more about Jupyter Notebooks in PyCharm, see [help](https://www.jetbrains.com/help/pycharm/ipython-notebook-support.html).\n",
    "For an overview of PyCharm, go to Help -> Learn IDE features or refer to [our documentation](https://www.jetbrains.com/help/pycharm/getting-started.html)."
   ],
   "id": "8a77807f92f26ee"
  },
  {
   "metadata": {
    "ExecuteTime": {
     "end_time": "2025-08-02T17:23:17.830168Z",
     "start_time": "2025-08-02T17:23:16.094513Z"
    }
   },
   "cell_type": "code",
   "source": [
    "import pandas as pd\n",
    "from datetime import timedelta\n",
    "from sklearn.preprocessing import StandardScaler\n",
    "from sklearn.cluster import KMeans\n",
    "from sklearn.metrics.pairwise import cosine_similarity\n",
    "import matplotlib.pyplot as plt\n",
    "\n"
   ],
   "id": "fbc121e30a2defb3",
   "outputs": [],
   "execution_count": 1
  },
  {
   "metadata": {
    "ExecuteTime": {
     "end_time": "2025-08-02T17:34:51.979040Z",
     "start_time": "2025-08-02T17:34:51.033642Z"
    }
   },
   "cell_type": "code",
   "source": [
    "# Load the dataset\n",
    "try:\n",
    "    df = pd.read_csv('online_retail.csv', encoding='latin1')\n",
    "except FileNotFoundError:\n",
    "    print(\"Error: online_retail.csv not found.\")\n",
    "    df = None\n",
    "\n",
    "if df is not None:\n",
    "    # Drop rows with missing CustomerID\n",
    "    df.dropna(subset=['CustomerID'], inplace=True)\n",
    "\n",
    "    # Filter out canceled orders, which have an 'InvoiceNo' starting with 'C'\n",
    "    df = df[~df['InvoiceNo'].astype(str).str.contains('C', na=False)]\n",
    "\n",
    "    # Convert 'InvoiceDate' to datetime format\n",
    "    df['InvoiceDate'] = pd.to_datetime(df['InvoiceDate'])\n",
    "\n",
    "    # Create a 'TotalPrice' column\n",
    "    df['TotalPrice'] = df['Quantity'] * df['UnitPrice']\n",
    "    \n",
    "    print(\"Data cleaning complete.\")"
   ],
   "id": "646560f8623c475f",
   "outputs": [
    {
     "name": "stdout",
     "output_type": "stream",
     "text": [
      "Data cleaning complete.\n"
     ]
    }
   ],
   "execution_count": 7
  },
  {
   "metadata": {
    "ExecuteTime": {
     "end_time": "2025-08-02T17:48:56.393278Z",
     "start_time": "2025-08-02T17:48:55.617184Z"
    }
   },
   "cell_type": "code",
   "source": [
    "# ==================================================================================================\n",
    "# 2. RFM Analysis and Customer Segmentation\n",
    "# ==================================================================================================\n",
    "\n",
    "print(\"Step 2: Performing RFM Analysis...\")\n",
    "\n",
    "# Calculate a reference date as one day after the last invoice date\n",
    "reference_date = df['InvoiceDate'].max() + timedelta(days=1)\n",
    "\n",
    "# Group by CustomerID and calculate RFM values\n",
    "rfm_df = df.groupby('CustomerID').agg(\n",
    "    Recency=('InvoiceDate', lambda x: (reference_date - x.max()).days),\n",
    "    Frequency=('InvoiceNo', lambda x: x.nunique()),\n",
    "    Monetary=('TotalPrice', 'sum')\n",
    ").reset_index()\n",
    "\n",
    "# Assign scores (1-4) to RFM values using quartiles\n",
    "rfm_df['R_score'] = pd.qcut(rfm_df['Recency'], q=4, labels=[4, 3, 2, 1])\n",
    "rfm_df['F_score'] = pd.qcut(rfm_df['Frequency'].rank(method='first'), q=4, labels=[1, 2, 3, 4])\n",
    "rfm_df['M_score'] = pd.qcut(rfm_df['Monetary'], q=4, labels=[1, 2, 3, 4])\n",
    "\n",
    "# Concatenate the RFM scores to create an RFM_Score\n",
    "rfm_df['RFM_Score'] = rfm_df['R_score'].astype(str) + rfm_df['F_score'].astype(str) + rfm_df['M_score'].astype(str)\n",
    "\n",
    "# Define a function to map RFM_Score to meaningful customer segments.\n",
    "def rfm_segment(score):\n",
    "    if score in ['444', '443', '434', '344', '343']: \n",
    "        return 'Champions'\n",
    "    elif score in ['421', '411', '321', '311', '221', '211', '121', '111']: \n",
    "        return 'At Risk'\n",
    "    elif score in ['441', '431', '341', '331']: \n",
    "        return 'Loyal Customers'\n",
    "    elif score in ['244', '243', '234', '233', '144', '143']: \n",
    "        return 'Promising'\n",
    "    elif score in ['432', '332', '232', '222', '132', '122']: \n",
    "        return 'Potential Loyalist'\n",
    "    elif score in ['414', '314', '413', '313']: \n",
    "        return 'New Customers'\n",
    "    else: \n",
    "        return 'Others'\n",
    "\n",
    "# Apply the segmentation function\n",
    "rfm_df['Segment'] = rfm_df['RFM_Score'].apply(rfm_segment)\n",
    "\n",
    "print(\"RFM analysis and segmentation complete. Displaying the count of customers in each segment:\")\n",
    "print(rfm_df['Segment'].value_counts())\n",
    "print(\"-\" * 50)"
   ],
   "id": "a415c06e39077665",
   "outputs": [
    {
     "name": "stdout",
     "output_type": "stream",
     "text": [
      "Step 2: Performing RFM Analysis...\n",
      "RFM analysis and segmentation complete. Displaying the count of customers in each segment:\n",
      "Segment\n",
      "Others                1399\n",
      "At Risk                999\n",
      "Champions              961\n",
      "Potential Loyalist     542\n",
      "Promising              383\n",
      "Loyal Customers         37\n",
      "New Customers           18\n",
      "Name: count, dtype: int64\n",
      "--------------------------------------------------\n"
     ]
    }
   ],
   "execution_count": 9
  },
  {
   "metadata": {
    "ExecuteTime": {
     "end_time": "2025-08-02T18:00:18.284081Z",
     "start_time": "2025-08-02T18:00:17.980077Z"
    }
   },
   "cell_type": "code",
   "source": [
    "# ================================================================================================== \n",
    "# 3. Unsupervised Machine Learning – K-Means Clustering\n",
    "# ==================================================================================================\n",
    "\n",
    "print(\"\\nPerforming K-Means Clustering...\")\n",
    "    \n",
    "# Prepare data for clustering by standardizing the RFM values\n",
    "X = rfm_df[['Recency', 'Frequency', 'Monetary']].values\n",
    "scaler = StandardScaler()\n",
    "X_scaled = scaler.fit_transform(X)\n",
    "# Use a fixed number of clusters (k=4) for demonstration\n",
    "k = 4\n",
    "kmeans = KMeans(n_clusters=k, random_state=42, n_init=10)\n",
    "rfm_df['Cluster'] = kmeans.fit_predict(X_scaled)\n",
    "    \n",
    "print(\"K-Means clustering complete.\")\n"
   ],
   "id": "14d2f8e780f3cd1c",
   "outputs": [
    {
     "name": "stdout",
     "output_type": "stream",
     "text": [
      "\n",
      "Performing K-Means Clustering...\n",
      "K-Means clustering complete.\n"
     ]
    }
   ],
   "execution_count": 12
  },
  {
   "metadata": {
    "ExecuteTime": {
     "end_time": "2025-08-02T18:07:11.389205Z",
     "start_time": "2025-08-02T18:07:08.564180Z"
    }
   },
   "cell_type": "code",
   "source": [
    "# ==================================================================================================\n",
    "# 4. Collaborative Filtering – Recommendation System\n",
    "# ==================================================================================================\n",
    "\n",
    "# Load the dataset from the uploaded CSV file\n",
    "try:\n",
    "    df = pd.read_csv('online_retail.csv', encoding='latin1')\n",
    "\n",
    "    # Drop rows with missing 'CustomerID' and filter out cancelled orders.\n",
    "    df.dropna(subset=['CustomerID'], inplace=True)\n",
    "    df = df[~df['InvoiceNo'].astype(str).str.contains('C', na=False)]\n",
    "\n",
    "    # Convert 'InvoiceDate' to datetime and calculate 'TotalPrice'.\n",
    "    df['InvoiceDate'] = pd.to_datetime(df['InvoiceDate'])\n",
    "    df['TotalPrice'] = df['Quantity'] * df['UnitPrice']\n",
    "    \n",
    "    print(\"\\nBuilding Collaborative Filtering Recommendation System...\")\n",
    "\n",
    "    # Create a user-item matrix where rows are customers and columns are products.\n",
    "    # The values represent the quantity of each item purchased.\n",
    "    user_item_matrix = df.pivot_table(\n",
    "        index='CustomerID', columns='StockCode', values='Quantity', aggfunc='sum'\n",
    "    ).fillna(0)\n",
    "\n",
    "    # Calculate the cosine similarity between all users.\n",
    "    # This metric measures the similarity in their purchase patterns.\n",
    "    user_similarity = cosine_similarity(user_item_matrix)\n",
    "    user_similarity_df = pd.DataFrame(\n",
    "        user_similarity, index=user_item_matrix.index, columns=user_item_matrix.index\n",
    "    )\n",
    "\n",
    "    # Define a function to get product recommendations for a given customer.\n",
    "    def get_user_recommendations(customer_id, num_recommendations=5):\n",
    "        if customer_id not in user_similarity_df.index:\n",
    "            print(f\"Customer ID {customer_id} not found in the dataset.\")\n",
    "            return\n",
    "\n",
    "        # Find the most similar users based on their purchase history.\n",
    "        user_scores = user_similarity_df[customer_id]\n",
    "        most_similar_users = user_scores.sort_values(ascending=False).drop(customer_id)\n",
    "\n",
    "        # Get the items already purchased by the target customer.\n",
    "        customer_purchased_items = user_item_matrix.loc[customer_id][user_item_matrix.loc[customer_id] > 0]\n",
    "        \n",
    "        recommended_items = pd.Series(dtype='float64')\n",
    "\n",
    "        # Iterate through similar users to find new items to recommend.\n",
    "        for similar_user_id in most_similar_users.index:\n",
    "            similar_user_items = user_item_matrix.loc[similar_user_id][user_item_matrix.loc[similar_user_id] > 0]\n",
    "            new_items_to_recommend = similar_user_items.index.difference(customer_purchased_items.index)\n",
    "\n",
    "            if not new_items_to_recommend.empty:\n",
    "                recommended_items = pd.concat([recommended_items, pd.Series(new_items_to_recommend)])\n",
    "            \n",
    "            # Stop once enough recommendations have been gathered.\n",
    "            if len(recommended_items) >= num_recommendations:\n",
    "                break\n",
    "\n",
    "        # Get product descriptions for the recommended items.\n",
    "        item_descriptions = df[['StockCode', 'Description']].drop_duplicates()\n",
    "        recommended_items_with_desc = item_descriptions[\n",
    "            item_descriptions['StockCode'].isin(recommended_items.unique()[:num_recommendations])\n",
    "        ]\n",
    "        \n",
    "        if not recommended_items_with_desc.empty:\n",
    "            print(f\"\\nRecommendations for Customer {customer_id}:\")\n",
    "            for index, row in recommended_items_with_desc.iterrows():\n",
    "                print(f\" - {row['Description']} (StockCode: {row['StockCode']})\")\n",
    "        else:\n",
    "            print(f\"\\nCould not find any new recommendations for Customer {customer_id}.\")\n",
    "\n",
    "    # Example usage with a sample customer ID\n",
    "    example_customer_id = 12347.0\n",
    "    print(f\"\\nGetting recommendations for example customer {example_customer_id}...\")\n",
    "    get_user_recommendations(example_customer_id)\n",
    "\n",
    "except FileNotFoundError:\n",
    "    print(\"Error: online_retail.csv not found. Please ensure the file is in the correct directory.\")"
   ],
   "id": "ef39ae56dcd2918a",
   "outputs": [
    {
     "name": "stdout",
     "output_type": "stream",
     "text": [
      "\n",
      "Building Collaborative Filtering Recommendation System...\n",
      "\n",
      "Getting recommendations for example customer 12347.0...\n",
      "\n",
      "Recommendations for Customer 12347.0:\n",
      " - ENAMEL FLOWER JUG CREAM (StockCode: 22427)\n",
      " - GROW YOUR OWN BASIL IN ENAMEL MUG (StockCode: 22441)\n",
      " - FELTCRAFT 6 FLOWER FRIENDS (StockCode: 22149)\n",
      " - ANTIQUE SILVER TEA GLASS ETCHED (StockCode: 84946)\n",
      " - SET/3 OCEAN SCENT CANDLE JEWEL BOX (StockCode: 72807B)\n",
      " - ANTIQUE SILVER T-LIGHT GLASS (StockCode: 84946)\n"
     ]
    }
   ],
   "execution_count": 13
  },
  {
   "metadata": {},
   "cell_type": "code",
   "outputs": [],
   "execution_count": null,
   "source": "",
   "id": "d59d26fedc5bbb29"
  }
 ],
 "metadata": {
  "kernelspec": {
   "display_name": "Python 3",
   "language": "python",
   "name": "python3"
  },
  "language_info": {
   "codemirror_mode": {
    "name": "ipython",
    "version": 2
   },
   "file_extension": ".py",
   "mimetype": "text/x-python",
   "name": "python",
   "nbconvert_exporter": "python",
   "pygments_lexer": "ipython2",
   "version": "2.7.6"
  }
 },
 "nbformat": 4,
 "nbformat_minor": 5
}
